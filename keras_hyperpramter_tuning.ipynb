{
  "nbformat": 4,
  "nbformat_minor": 0,
  "metadata": {
    "colab": {
      "provenance": [],
      "authorship_tag": "ABX9TyM/qDJra5UV+gJ8xNVVz8Wb",
      "include_colab_link": true
    },
    "kernelspec": {
      "name": "python3",
      "display_name": "Python 3"
    },
    "language_info": {
      "name": "python"
    }
  },
  "cells": [
    {
      "cell_type": "markdown",
      "metadata": {
        "id": "view-in-github",
        "colab_type": "text"
      },
      "source": [
        "<a href=\"https://colab.research.google.com/github/Mr-RAKSHIT-2004-GUPTA/Boosting/blob/main/keras_hyperpramter_tuning.ipynb\" target=\"_parent\"><img src=\"https://colab.research.google.com/assets/colab-badge.svg\" alt=\"Open In Colab\"/></a>"
      ]
    },
    {
      "cell_type": "code",
      "execution_count": null,
      "metadata": {
        "id": "uUL7zN7CL03d"
      },
      "outputs": [],
      "source": [
        "import keras\n",
        "from keras import layers\n",
        "\n",
        "def build_model(hp):\n",
        "  model  = keras.Sequential()\n",
        "  model.add(layer.Flatten())\n",
        "  model.add(\n",
        "      layer.Dense(\n",
        "          units = hp.Int(\"units\",min_value=32 , max_value = 512,step = 32)\n",
        "          activation = \"relu\"\n",
        "      )\n",
        "  )\n",
        "  model.add(layers.Dense(10 , activation = \"softmax\"))\n",
        "  model.compile(\n",
        "      optimizer = \"adam\",\n",
        "      loss = \"categorical_crossentropy\",\n",
        "      metrics = [\"accuracy\"],\n",
        "  )\n",
        "  return model"
      ]
    }
  ]
}